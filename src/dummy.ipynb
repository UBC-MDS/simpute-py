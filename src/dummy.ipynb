{
 "cells": [
  {
   "cell_type": "code",
   "execution_count": 9,
   "id": "d877d4fe-6eb1-4023-bff9-00cc4ae09fd4",
   "metadata": {},
   "outputs": [
    {
     "data": {
      "text/html": [
       "<div>\n",
       "<style scoped>\n",
       "    .dataframe tbody tr th:only-of-type {\n",
       "        vertical-align: middle;\n",
       "    }\n",
       "\n",
       "    .dataframe tbody tr th {\n",
       "        vertical-align: top;\n",
       "    }\n",
       "\n",
       "    .dataframe thead th {\n",
       "        text-align: right;\n",
       "    }\n",
       "</style>\n",
       "<table border=\"1\" class=\"dataframe\">\n",
       "  <thead>\n",
       "    <tr style=\"text-align: right;\">\n",
       "      <th></th>\n",
       "      <th>Case #</th>\n",
       "      <th>Date</th>\n",
       "      <th>Continent</th>\n",
       "      <th>Country</th>\n",
       "      <th>Deaths</th>\n",
       "      <th>Driver</th>\n",
       "      <th>Description</th>\n",
       "      <th>Source</th>\n",
       "    </tr>\n",
       "  </thead>\n",
       "  <tbody>\n",
       "    <tr>\n",
       "      <th>0</th>\n",
       "      <td>1</td>\n",
       "      <td>2013-04-02</td>\n",
       "      <td>North America</td>\n",
       "      <td>USA</td>\n",
       "      <td>2.0</td>\n",
       "      <td>0</td>\n",
       "      <td>Tesla car crashes into tree, burns</td>\n",
       "      <td>https://www.tag24.de/nachrichten/unfall/tesla-...</td>\n",
       "    </tr>\n",
       "    <tr>\n",
       "      <th>1</th>\n",
       "      <td>2</td>\n",
       "      <td>2013-11-02</td>\n",
       "      <td>North America</td>\n",
       "      <td>USA</td>\n",
       "      <td>1.0</td>\n",
       "      <td>0</td>\n",
       "      <td>Tesla veers into oncoming traffic</td>\n",
       "      <td>https://www.ksbw.com/article/hollister-crash-k...</td>\n",
       "    </tr>\n",
       "    <tr>\n",
       "      <th>2</th>\n",
       "      <td>3</td>\n",
       "      <td>2014-07-04</td>\n",
       "      <td>North America</td>\n",
       "      <td>USA</td>\n",
       "      <td>3.0</td>\n",
       "      <td>1</td>\n",
       "      <td>Unlicensed driver hits pedestrian</td>\n",
       "      <td>https://yle.fi/uutiset/3-12576787</td>\n",
       "    </tr>\n",
       "    <tr>\n",
       "      <th>3</th>\n",
       "      <td>4</td>\n",
       "      <td>2014-07-04</td>\n",
       "      <td>North America</td>\n",
       "      <td>USA</td>\n",
       "      <td>NaN</td>\n",
       "      <td>1</td>\n",
       "      <td>Man in wheelchair hit crossing road</td>\n",
       "      <td>https://www.wfla.com/news/man-in-wheelchair-f...</td>\n",
       "    </tr>\n",
       "    <tr>\n",
       "      <th>4</th>\n",
       "      <td>5</td>\n",
       "      <td>NaT</td>\n",
       "      <td>NaN</td>\n",
       "      <td>USA</td>\n",
       "      <td>1.0</td>\n",
       "      <td>0</td>\n",
       "      <td>Tesla crashes at high speed</td>\n",
       "      <td>https://www.boothbayregister.com/article/south...</td>\n",
       "    </tr>\n",
       "    <tr>\n",
       "      <th>5</th>\n",
       "      <td>6</td>\n",
       "      <td>2014-12-30</td>\n",
       "      <td>North America</td>\n",
       "      <td>USA</td>\n",
       "      <td>1.0</td>\n",
       "      <td>1</td>\n",
       "      <td>Tesla hits motorcycle</td>\n",
       "      <td>https://www.ksl.com/article/50445474/motorcycl...</td>\n",
       "    </tr>\n",
       "    <tr>\n",
       "      <th>6</th>\n",
       "      <td>7</td>\n",
       "      <td>2015-01-22</td>\n",
       "      <td>North America</td>\n",
       "      <td>USA</td>\n",
       "      <td>1.0</td>\n",
       "      <td>1</td>\n",
       "      <td>Tesla goes airborne and crashes</td>\n",
       "      <td>https://www.wpxi.com/news/local/least-1-person...</td>\n",
       "    </tr>\n",
       "    <tr>\n",
       "      <th>7</th>\n",
       "      <td>8</td>\n",
       "      <td>2015-06-22</td>\n",
       "      <td>North America</td>\n",
       "      <td>USA</td>\n",
       "      <td>1.0</td>\n",
       "      <td>1</td>\n",
       "      <td>Out of control Tesla hits pedestrians</td>\n",
       "      <td>https://whatchinareads.com/article/?uid=00e9b6...</td>\n",
       "    </tr>\n",
       "    <tr>\n",
       "      <th>8</th>\n",
       "      <td>9</td>\n",
       "      <td>2015-11-18</td>\n",
       "      <td>North America</td>\n",
       "      <td>USA</td>\n",
       "      <td>1.0</td>\n",
       "      <td>0</td>\n",
       "      <td>3-car accident involving Tesla</td>\n",
       "      <td>https://fox5sandiego.com/traffic/82-year-old-k...</td>\n",
       "    </tr>\n",
       "    <tr>\n",
       "      <th>9</th>\n",
       "      <td>10</td>\n",
       "      <td>2015-12-22</td>\n",
       "      <td>North America</td>\n",
       "      <td>Canada</td>\n",
       "      <td>1.0</td>\n",
       "      <td>1</td>\n",
       "      <td>Motorcycle crashes into Tesla</td>\n",
       "      <td>https://www.staradvertiser.com/2022/07/09/brea...</td>\n",
       "    </tr>\n",
       "  </tbody>\n",
       "</table>\n",
       "</div>"
      ],
      "text/plain": [
       "   Case #       Date      Continent Country  Deaths  Driver  \\\n",
       "0       1 2013-04-02  North America     USA     2.0       0   \n",
       "1       2 2013-11-02  North America     USA     1.0       0   \n",
       "2       3 2014-07-04  North America     USA     3.0       1   \n",
       "3       4 2014-07-04  North America     USA     NaN       1   \n",
       "4       5        NaT            NaN     USA     1.0       0   \n",
       "5       6 2014-12-30  North America     USA     1.0       1   \n",
       "6       7 2015-01-22  North America     USA     1.0       1   \n",
       "7       8 2015-06-22  North America     USA     1.0       1   \n",
       "8       9 2015-11-18  North America     USA     1.0       0   \n",
       "9      10 2015-12-22  North America  Canada     1.0       1   \n",
       "\n",
       "                               Description  \\\n",
       "0      Tesla car crashes into tree, burns    \n",
       "1       Tesla veers into oncoming traffic    \n",
       "2       Unlicensed driver hits pedestrian    \n",
       "3     Man in wheelchair hit crossing road    \n",
       "4             Tesla crashes at high speed    \n",
       "5                   Tesla hits motorcycle    \n",
       "6         Tesla goes airborne and crashes    \n",
       "7   Out of control Tesla hits pedestrians    \n",
       "8           3-car accident involving Tesla   \n",
       "9           Motorcycle crashes into Tesla    \n",
       "\n",
       "                                              Source  \n",
       "0  https://www.tag24.de/nachrichten/unfall/tesla-...  \n",
       "1  https://www.ksbw.com/article/hollister-crash-k...  \n",
       "2                  https://yle.fi/uutiset/3-12576787  \n",
       "3   https://www.wfla.com/news/man-in-wheelchair-f...  \n",
       "4  https://www.boothbayregister.com/article/south...  \n",
       "5  https://www.ksl.com/article/50445474/motorcycl...  \n",
       "6  https://www.wpxi.com/news/local/least-1-person...  \n",
       "7  https://whatchinareads.com/article/?uid=00e9b6...  \n",
       "8  https://fox5sandiego.com/traffic/82-year-old-k...  \n",
       "9  https://www.staradvertiser.com/2022/07/09/brea...  "
      ]
     },
     "execution_count": 9,
     "metadata": {},
     "output_type": "execute_result"
    }
   ],
   "source": [
    "from datetime import datetime\n",
    "from io import StringIO\n",
    "import pandas as pd\n",
    "\n",
    "csv_string = \"\"\"\n",
    "Case #,Date,Continent,Country,Deaths,Driver,Description,Source\n",
    "1,4/2/2013,North America,USA,2,0,\" Tesla car crashes into tree, burns \",https://www.tag24.de/nachrichten/unfall/tesla-kracht-gegen-baum-und-brennt-aus-zwei-tote-und-drei-schwerverletzte-2584180\n",
    "2,11/2/2013,North America,USA,1,0, Tesla veers into oncoming traffic ,https://www.ksbw.com/article/hollister-crash-kills-4-tesla-big-rig/40898893?utm_campaign=snd-autopilot\n",
    "3,7/4/2014,North America,USA,3,1, Unlicensed driver hits pedestrian ,https://yle.fi/uutiset/3-12576787\n",
    "4,7/4/2014,North America,USA,,1, Man in wheelchair hit crossing road , https://www.wfla.com/news/man-in-wheelchair-fatally-struck-by-suv-tesla-in-pasco-county/\n",
    "5,,,USA,1,0, Tesla crashes at high speed ,https://www.boothbayregister.com/article/southport-accident-victim-named/163623\n",
    "6,12/30/2014,North America,USA,1,1, Tesla hits motorcycle ,https://www.ksl.com/article/50445474/motorcyclist-dies-in-i-15-collision-with-tesla-on-autopilot-uhp-says\n",
    "7,1/22/2015,North America,USA,1,1, Tesla goes airborne and crashes ,https://www.wpxi.com/news/local/least-1-person-killed-fatal-crash-pine-township/ARDDKESNLZAX7EABJBPELT4KZY/?outputType=amp\n",
    "8,6/22/2015,North America,USA,1,1, Out of control Tesla hits pedestrians ,https://whatchinareads.com/article/?uid=00e9b6f6ff4d11ec98bbc7030b3aab5e\n",
    "9,11/18/2015,North America,USA,1,0,3-car accident involving Tesla,https://fox5sandiego.com/traffic/82-year-old-killed-in-rollover-crash-identified/\n",
    "10,12/22/2015,North America,Canada,1,1, Motorcycle crashes into Tesla ,https://www.staradvertiser.com/2022/07/09/breaking-news/kihei-man-46-dead-after-motorcycle-collision-in-wailuku/\n",
    "\"\"\"\n",
    "\n",
    "csvStringIO = StringIO(csv_string)\n",
    "input_df = pd.read_csv(csvStringIO, sep=\",\", parse_dates=['Date'])\n",
    "input_df"
   ]
  },
  {
   "cell_type": "code",
   "execution_count": 15,
   "id": "e1116f84-ad83-4c2d-8f6e-3a0f8b05775d",
   "metadata": {},
   "outputs": [
    {
     "data": {
      "text/plain": [
       "True"
      ]
     },
     "execution_count": 15,
     "metadata": {},
     "output_type": "execute_result"
    }
   ],
   "source": [
    "input_df.loc[:,col].isnull().any()"
   ]
  },
  {
   "cell_type": "code",
   "execution_count": 16,
   "id": "8c089b33-4f90-4959-a624-12d61ad0d09c",
   "metadata": {},
   "outputs": [
    {
     "name": "stderr",
     "output_type": "stream",
     "text": [
      "/tmp/ipykernel_31843/264786326.py:2: FutureWarning: In a future version, `df.iloc[:, i] = newvals` will attempt to set the values inplace instead of always setting a new array. To retain the old behavior, use either `df[df.columns[i]] = newvals` or, if columns are non-unique, `df.isetitem(i, newvals)`\n",
      "  input_df.loc[:,col] = input_df.loc[:,col].replace({None: datetime.today()})\n"
     ]
    }
   ],
   "source": [
    "col = 'Date'\n",
    "input_df.loc[:,col] = input_df.loc[:,col].replace({None: datetime.today()})"
   ]
  },
  {
   "cell_type": "code",
   "execution_count": 23,
   "id": "7666dc8c-1406-424e-bab8-c9127568a935",
   "metadata": {},
   "outputs": [],
   "source": [
    "assert input_df.loc[:,col].isnull().any() == False"
   ]
  },
  {
   "cell_type": "code",
   "execution_count": 6,
   "id": "678a67be-2956-43ca-a531-6b7bae644eca",
   "metadata": {},
   "outputs": [
    {
     "data": {
      "text/plain": [
       "0   2013-04-02 00:00:00.000000\n",
       "1   2013-11-02 00:00:00.000000\n",
       "2   2014-07-04 00:00:00.000000\n",
       "3   2014-07-04 00:00:00.000000\n",
       "4   2023-01-21 15:23:03.137778\n",
       "5   2014-12-30 00:00:00.000000\n",
       "6   2015-01-22 00:00:00.000000\n",
       "7   2015-06-22 00:00:00.000000\n",
       "8   2015-11-18 00:00:00.000000\n",
       "9   2015-12-22 00:00:00.000000\n",
       "Name: Date, dtype: datetime64[ns]"
      ]
     },
     "execution_count": 6,
     "metadata": {},
     "output_type": "execute_result"
    }
   ],
   "source": [
    "input_df.loc[:,col]"
   ]
  },
  {
   "cell_type": "code",
   "execution_count": 47,
   "id": "c0bba5c9-b4ad-489f-87c0-7facf1a766af",
   "metadata": {},
   "outputs": [],
   "source": []
  }
 ],
 "metadata": {
  "kernelspec": {
   "display_name": "Python [conda env:root] *",
   "language": "python",
   "name": "conda-root-py"
  },
  "language_info": {
   "codemirror_mode": {
    "name": "ipython",
    "version": 3
   },
   "file_extension": ".py",
   "mimetype": "text/x-python",
   "name": "python",
   "nbconvert_exporter": "python",
   "pygments_lexer": "ipython3",
   "version": "3.10.8"
  }
 },
 "nbformat": 4,
 "nbformat_minor": 5
}
